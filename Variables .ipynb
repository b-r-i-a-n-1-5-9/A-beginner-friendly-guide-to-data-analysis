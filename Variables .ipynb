{
 "cells": [
  {
   "cell_type": "code",
   "execution_count": null,
   "id": "28e84d13",
   "metadata": {
    "id": "28e84d13",
    "outputId": "74f8e03e-2cd1-4224-c46a-55f19ddb77d0"
   },
   "outputs": [
    {
     "name": "stdout",
     "output_type": "stream",
     "text": [
      "Hello, Word!\n"
     ]
    }
   ],
   "source": [
    "print('Hello, Word!')"
   ]
  },
  {
   "cell_type": "code",
   "execution_count": null,
   "id": "c3e1c4d9",
   "metadata": {
    "id": "c3e1c4d9",
    "outputId": "61ad864f-814b-44cb-d9fd-751673d2ee3a"
   },
   "outputs": [
    {
     "name": "stdout",
     "output_type": "stream",
     "text": [
      "Who are you as a person\n"
     ]
    }
   ],
   "source": [
    "print('Who are you as a person')"
   ]
  },
  {
   "cell_type": "code",
   "execution_count": 1,
   "id": "0b3d4f8e",
   "metadata": {
    "id": "0b3d4f8e",
    "outputId": "2cb2e071-5f90-4cfd-9146-f7e3a14ec5e2"
   },
   "outputs": [
    {
     "name": "stdout",
     "output_type": "stream",
     "text": [
      "What are your goals in life and are you realy interested in learning python for data analysis?\n"
     ]
    }
   ],
   "source": [
    "print('What are your goals in life and are you realy interested in learning python for data analysis?')"
   ]
  },
  {
   "cell_type": "code",
   "execution_count": 2,
   "id": "4b423c78",
   "metadata": {
    "id": "4b423c78",
    "outputId": "3b520c6a-4f25-405e-ae24-f477013d2cb3"
   },
   "outputs": [
    {
     "name": "stdout",
     "output_type": "stream",
     "text": [
      " I am glad you are here and I am willing to help you in any way possible\n"
     ]
    }
   ],
   "source": [
    "print(' I am glad you are here and I am willing to help you in any way possible')"
   ]
  },
  {
   "cell_type": "code",
   "execution_count": 6,
   "id": "dc31b2d1",
   "metadata": {
    "id": "dc31b2d1",
    "outputId": "b2166e91-b859-4e58-d339-143f7244b976"
   },
   "outputs": [
    {
     "name": "stdout",
     "output_type": "stream",
     "text": [
      "There are various programing languages.\n",
      "I prefer python because it is not limited to data analysis,\n",
      "You can also create applications using python so, once you learn it, you wont be limited to doing analysis in it\n"
     ]
    }
   ],
   "source": [
    "print('There are various programing languages.\\nI prefer python because it is not limited to data analysis,\\nYou can also create applications using python so, once you learn it, you wont be limited to doing analysis in it')"
   ]
  },
  {
   "cell_type": "code",
   "execution_count": null,
   "id": "56bb4461",
   "metadata": {
    "id": "56bb4461"
   },
   "outputs": [],
   "source": [
    "checkingAccount= 500"
   ]
  },
  {
   "cell_type": "code",
   "execution_count": null,
   "id": "a2be4e9a",
   "metadata": {
    "id": "a2be4e9a"
   },
   "outputs": [],
   "source": [
    "savingsAccount= 1000"
   ]
  },
  {
   "cell_type": "markdown",
   "id": "227cb348",
   "metadata": {
    "id": "227cb348"
   },
   "source": [
    "A variable is a box containing values.or rather, values are stored in a variable. when the values are in numerical form, to create a **variable** you will just associate the numerical value with a label, or name.\n",
    "\n",
    "we often use **Camel case** where the first word is in lowercase while the rest of the words begin with an upper case.\n",
    "\n",
    "Remember, camel case does not have spaces so words are written when joined. ie ***checkingAccount* debitAccount* or *savingAccount***\n",
    "\n",
    "in the above commands, we declared two variables, checkingAccount and savingsAccount by storing the value 500 and 1000 in them. Remember\n",
    "\n",
    "You declare a variable by associating a name to it, just like we did above.\n",
    "\n",
    "\n",
    "#### add some money to your savings account.\n",
    "\n",
    "#### withdraw some from your checking account.\n",
    "\n",
    "#### calculate how long it would take you to reach $5,000 if you save $500 every month.\n",
    "\n",
    "#### calculate how much would be in your checking account if you added $30 every day for a week.\n",
    "\n",
    "#### calculate how much would be in your checking account if you spent $10 every day."
   ]
  },
  {
   "cell_type": "code",
   "execution_count": null,
   "id": "49774643",
   "metadata": {
    "id": "49774643"
   },
   "outputs": [],
   "source": [
    "#to add a value to a variable, we will just use normal arthmetic functions.\n",
    "#for example to add 100 to your savings account the code will be\n",
    "savingsAccount = savingsAccount+100"
   ]
  },
  {
   "cell_type": "code",
   "execution_count": null,
   "id": "2909a79b",
   "metadata": {
    "id": "2909a79b"
   },
   "outputs": [],
   "source": [
    "#to remove any value from a variable, we will just use normal arithmetic and subtract.\n",
    "#for example to subtract 50 from your checking account, we will do this\n",
    "checkingAccount=checkingAccount -50"
   ]
  },
  {
   "cell_type": "code",
   "execution_count": null,
   "id": "edd07fa2",
   "metadata": {
    "id": "edd07fa2"
   },
   "outputs": [],
   "source": [
    "#calculate how long it would take you to reach $5,000 if you save $500 every month.\n",
    "number_of_months_Save= (5000-checkingAccount)/500"
   ]
  },
  {
   "cell_type": "code",
   "execution_count": null,
   "id": "f5d9371e",
   "metadata": {
    "id": "f5d9371e"
   },
   "outputs": [],
   "source": [
    "#calculate how much would be in your checking account if you added $30 every day for a week.\n",
    "# calculate how much would be in your checking account if you spent $10 every day.\n",
    "checkingAccount= checkingAccount+(30-10)* 7"
   ]
  },
  {
   "cell_type": "code",
   "execution_count": null,
   "id": "d1179974",
   "metadata": {
    "colab": {
     "base_uri": "https://localhost:8080/"
    },
    "id": "d1179974",
    "outputId": "ffd80980-3e20-4cf0-9ddd-42ca7a712b97"
   },
   "outputs": [
    {
     "name": "stdout",
     "output_type": "stream",
     "text": [
      "100\n"
     ]
    }
   ],
   "source": [
    "# % modulo : returns the remainder of the euclidean division for example\n",
    "# 1100 = 500 * 2 + 100, so 1100 % 500 = remainder = 100. we can see that bellow\n",
    "print(savingsAccount % 500)"
   ]
  },
  {
   "cell_type": "markdown",
   "id": "1gTvhghSF0dQ",
   "metadata": {
    "id": "1gTvhghSF0dQ"
   },
   "source": []
  },
  {
   "cell_type": "code",
   "execution_count": null,
   "id": "976a5551",
   "metadata": {
    "colab": {
     "base_uri": "https://localhost:8080/"
    },
    "id": "976a5551",
    "outputId": "b4cd8546-5547-49c8-ae74-1677c1baf50a"
   },
   "outputs": [
    {
     "name": "stdout",
     "output_type": "stream",
     "text": [
      "1100\n"
     ]
    }
   ],
   "source": [
    "print (savingsAccount)"
   ]
  },
  {
   "cell_type": "code",
   "execution_count": null,
   "id": "d2654587",
   "metadata": {
    "colab": {
     "base_uri": "https://localhost:8080/"
    },
    "id": "d2654587",
    "outputId": "23baec1b-afae-4851-b61e-070f80d90d47"
   },
   "outputs": [
    {
     "name": "stdout",
     "output_type": "stream",
     "text": [
      "729\n"
     ]
    }
   ],
   "source": [
    "# also, we have the arithetic opperation **. this denotes power. for example if we raise 9 to the power 3 will get 729.\n",
    "print(9**3)"
   ]
  },
  {
   "cell_type": "code",
   "execution_count": null,
   "id": "80026766",
   "metadata": {
    "colab": {
     "base_uri": "https://localhost:8080/"
    },
    "id": "80026766",
    "outputId": "77d3bb22-b0d9-43c1-862d-0fbfbb4c480d"
   },
   "outputs": [
    {
     "name": "stdout",
     "output_type": "stream",
     "text": [
      "2\n"
     ]
    }
   ],
   "source": [
    "#we also have this // sign. it denotes integer division. it calculates the integer division (rounded down)\n",
    "# so, if we say print(savingsAccount//500) we will get the integer division results only which will be 2. there will be no remainder since\n",
    "# the output rounds down the equation.\n",
    "# 1100 = 500 * 2 + 100, so 1100 // 500 = integer division result = 2*\n",
    "print (savingsAccount//500)"
   ]
  },
  {
   "cell_type": "code",
   "execution_count": null,
   "id": "05803bf7",
   "metadata": {
    "colab": {
     "base_uri": "https://localhost:8080/"
    },
    "id": "05803bf7",
    "outputId": "8b59cb2f-841f-4f3f-8d6d-6e5626ccb540"
   },
   "outputs": [
    {
     "name": "stdout",
     "output_type": "stream",
     "text": [
      "1200\n"
     ]
    }
   ],
   "source": [
    "#remember, there are ways of writing shorter and better code especialy when dealing with arithmetic operations.\n",
    "# so rather than using the long form of operations, you can use simplified operators. rather than using (savingsAccount= savingsAccount + 100,)\n",
    "# you can write it as (savingsAccount +=100)\n",
    "savingsAccount += 100\n",
    "print (savingsAccount)"
   ]
  },
  {
   "cell_type": "code",
   "execution_count": null,
   "id": "4ibwMNnQnZyl",
   "metadata": {
    "id": "4ibwMNnQnZyl"
   },
   "outputs": [],
   "source": [
    "# so, just as we have seen above, there are simplified equations for every arithmetic equation\n",
    "# for example (+=)\n",
    "#(-=)\n",
    "#(*=)\n",
    "#(/=)\n",
    "#"
   ]
  },
  {
   "cell_type": "code",
   "execution_count": null,
   "id": "R8CnCiDZI-Sr",
   "metadata": {
    "id": "R8CnCiDZI-Sr"
   },
   "outputs": [],
   "source": [
    "savingsAccount *= 100"
   ]
  },
  {
   "cell_type": "code",
   "execution_count": null,
   "id": "GZF61RtHJdvP",
   "metadata": {
    "colab": {
     "base_uri": "https://localhost:8080/"
    },
    "id": "GZF61RtHJdvP",
    "outputId": "6b08bd82-3904-47cb-c000-f83dad053cb5"
   },
   "outputs": [
    {
     "name": "stdout",
     "output_type": "stream",
     "text": [
      "1200.0\n"
     ]
    }
   ],
   "source": [
    "print(savingsAccount)"
   ]
  },
  {
   "cell_type": "markdown",
   "id": "16NBbQ1nCEjH",
   "metadata": {
    "id": "16NBbQ1nCEjH"
   },
   "source": [
    "It is essential to note that variables do not contain numerical values alone. Variables can also be formed from textual values. this means that you can save a text as a variable.\n",
    "To do this, you will use double quatation marks\" \" or single quotation marks ' ' to enclose the textual value.for example\n"
   ]
  },
  {
   "cell_type": "code",
   "execution_count": null,
   "id": "oLsu1hcDKPNQ",
   "metadata": {
    "id": "oLsu1hcDKPNQ"
   },
   "outputs": [],
   "source": [
    "firstName = \"Benjamin\"\n",
    "interestRate = 1.5\n",
    "adress = \"15 19 Bloomsbury wat, Holborn, London, WC1A 2TH\""
   ]
  },
  {
   "cell_type": "code",
   "execution_count": null,
   "id": "EfPC7DDoKS34",
   "metadata": {
    "colab": {
     "base_uri": "https://localhost:8080/"
    },
    "id": "EfPC7DDoKS34",
    "outputId": "7fd3ae75-e158-4a0f-9856-d39579b0a605"
   },
   "outputs": [
    {
     "name": "stdout",
     "output_type": "stream",
     "text": [
      "15 19 Bloomsbury wat, Holborn, London, WC1A 2TH\n"
     ]
    }
   ],
   "source": [
    "print(adress)"
   ]
  },
  {
   "cell_type": "markdown",
   "id": "Uo_SEEsiKXEX",
   "metadata": {
    "id": "Uo_SEEsiKXEX"
   },
   "source": [
    "Numerical values can be generaly divided into two types\n",
    "\n",
    "***integers***- this are whole number values, ie 1,2,3,4 and -1.-2,-3,-4\n",
    "\n",
    "***Decimals***. You definetely know what such are. ie 0.1, 0.2,0.3, 0.4, -0.1,-0.2, -0.3 etc."
   ]
  },
  {
   "cell_type": "code",
   "execution_count": null,
   "id": "lqmfiQnRLMvr",
   "metadata": {
    "id": "lqmfiQnRLMvr"
   },
   "outputs": [],
   "source": [
    "# when it comes to integers, creating a variable with integers involves assigning a name to the values. for example\n",
    "account = 10\n",
    "# this command creates an integer variable (int)"
   ]
  },
  {
   "cell_type": "code",
   "execution_count": null,
   "id": "R8BI6jPoMEBD",
   "metadata": {
    "colab": {
     "base_uri": "https://localhost:8080/"
    },
    "id": "R8BI6jPoMEBD",
    "outputId": "0cebf011-3d15-4cc5-cc17-3042a307ea07"
   },
   "outputs": [
    {
     "name": "stdout",
     "output_type": "stream",
     "text": [
      "10\n"
     ]
    }
   ],
   "source": [
    "print(account)"
   ]
  },
  {
   "cell_type": "code",
   "execution_count": null,
   "id": "np9xXiq3LMxr",
   "metadata": {
    "id": "np9xXiq3LMxr"
   },
   "outputs": [],
   "source": [
    "# creating a variable with a decimal is follows the same process by assigning the value a name.for example\n",
    "length = 1876.79\n",
    "width = 870.0\n",
    "# this command creates decimal number variables, which is known as the (float) type of variable.\n"
   ]
  },
  {
   "cell_type": "markdown",
   "id": "zGD7pwkMM8Yr",
   "metadata": {
    "id": "zGD7pwkMM8Yr"
   },
   "source": [
    "As long as the associated value is a decimal number, Python will automatically consider the variable as being ***float***.\n",
    "This is true even if the digit after the decimal point is a 0, as is the case above with the width variable."
   ]
  },
  {
   "cell_type": "markdown",
   "id": "ZSB3qsrZQJbP",
   "metadata": {
    "id": "ZSB3qsrZQJbP"
   },
   "source": [
    "if you mix an ***int*** with a ***float***, the result will always be a ***float***\n",
    "\n",
    "For example:"
   ]
  },
  {
   "cell_type": "code",
   "execution_count": null,
   "id": "X0T2Fsl0MKg5",
   "metadata": {
    "colab": {
     "base_uri": "https://localhost:8080/"
    },
    "id": "X0T2Fsl0MKg5",
    "outputId": "8fdfc0ab-556e-491f-a180-387412bd4bb6"
   },
   "outputs": [
    {
     "name": "stdout",
     "output_type": "stream",
     "text": [
      "2.5\n"
     ]
    }
   ],
   "source": [
    "a = 7.5\n",
    "b = 3\n",
    "c = a/b\n",
    "print (c)"
   ]
  },
  {
   "cell_type": "markdown",
   "id": "hUG46qP3Q2ky",
   "metadata": {
    "id": "hUG46qP3Q2ky"
   },
   "source": [
    "through the above code, we have mixed a ***float*** and a ***int*** and we got a ***float***"
   ]
  },
  {
   "cell_type": "markdown",
   "id": "VP96I83-SxQp",
   "metadata": {
    "id": "VP96I83-SxQp"
   },
   "source": [
    "if the results from a certain operation between two integer is suppossed to be a decimal, python will automaticaly convert it into a float. just as we have seen above in 7.5/3.\n",
    "\n",
    "also, when deviding, even though the output should be an integer(int) python will return it as a float. for example"
   ]
  },
  {
   "cell_type": "code",
   "execution_count": null,
   "id": "gkSRBrxIRBTp",
   "metadata": {
    "colab": {
     "base_uri": "https://localhost:8080/"
    },
    "id": "gkSRBrxIRBTp",
    "outputId": "5015b3bd-c66a-4e09-afc6-afa1ee790e69"
   },
   "outputs": [
    {
     "name": "stdout",
     "output_type": "stream",
     "text": [
      "2.0\n"
     ]
    }
   ],
   "source": [
    "a = 10\n",
    "b = 5\n",
    "c = a/b\n",
    "print (c)"
   ]
  },
  {
   "cell_type": "markdown",
   "id": "qHeN1RgpTmyv",
   "metadata": {
    "id": "qHeN1RgpTmyv"
   },
   "source": [
    "however, you can force conversion of a variable into a well defined type.\n",
    "The process of defining a variable into a well defined type is called **typecasting**.\n",
    "\n",
    "the name originates from the fact that you are changing or casting the type of variable.\n",
    "\n",
    "type casting will need you to use (int) for integers and (float) for decimals\n",
    " here is an example bellow\n"
   ]
  },
  {
   "cell_type": "code",
   "execution_count": null,
   "id": "dX4gnyrfUWOx",
   "metadata": {
    "colab": {
     "base_uri": "https://localhost:8080/"
    },
    "id": "dX4gnyrfUWOx",
    "outputId": "c08dd63d-120b-43b7-c1fa-165b57034059"
   },
   "outputs": [
    {
     "name": "stdout",
     "output_type": "stream",
     "text": [
      "14\n"
     ]
    }
   ],
   "source": [
    "a = 14.0\n",
    "#remember that the above value is a float\n",
    "# we can type cast by the code bellow\n",
    "a = int (a)\n",
    "print (a)"
   ]
  },
  {
   "cell_type": "markdown",
   "id": "OtT4WzdXWDBS",
   "metadata": {
    "id": "OtT4WzdXWDBS"
   },
   "source": [
    "so to transform a variable into an integer or a float, you will need to specify\n",
    "for example\n",
    "\n",
    "\n",
    "a = int (a)\n"
   ]
  },
  {
   "cell_type": "markdown",
   "id": "FeJl5sFxtd-N",
   "metadata": {
    "id": "FeJl5sFxtd-N"
   },
   "source": [
    "***charater strings*** allow you to store text in your variables.\n",
    "\n",
    "\n",
    "you should note that we call them *** charachter strings *** rather than text because python does not concieve them as texts but rather, a set of charachters put together.\n",
    "\n",
    ". to create variables containing charachter strings, we will define the variable by using (\" \") or (' ').\n",
    "\n",
    "***charachter strings*** are refered to as ***string*** in python"
   ]
  },
  {
   "cell_type": "code",
   "execution_count": null,
   "id": "PnUVW320uhtf",
   "metadata": {
    "id": "PnUVW320uhtf"
   },
   "outputs": [],
   "source": [
    "city = \"New York\"\n",
    "film = \"taxi driver\"\n",
    "emptyString = \"\""
   ]
  },
  {
   "cell_type": "markdown",
   "id": "ovSyYxM8vPPW",
   "metadata": {
    "id": "ovSyYxM8vPPW"
   },
   "source": [
    "in python, you will realize that you end up asssembling several ***strings*** together.\n",
    "\n",
    "The process is known as ***concatenation***\n",
    "\n",
    "\n",
    " for example"
   ]
  },
  {
   "cell_type": "code",
   "execution_count": null,
   "id": "P6DUO87vvll9",
   "metadata": {
    "colab": {
     "base_uri": "https://localhost:8080/"
    },
    "id": "P6DUO87vvll9",
    "outputId": "e1721b7f-05c9-456e-9174-04c9018089b3"
   },
   "outputs": [
    {
     "name": "stdout",
     "output_type": "stream",
     "text": [
      "San FranciscoNew York\n"
     ]
    }
   ],
   "source": [
    "favouriteCityOne = 'San Francisco'\n",
    "favouriteCityTwo = 'New York'\n",
    "favourites = favouriteCityOne + favouriteCityTwo\n",
    "print (favourites)"
   ]
  },
  {
   "cell_type": "markdown",
   "id": "zucU3_CMwM3P",
   "metadata": {
    "id": "zucU3_CMwM3P"
   },
   "source": [
    "you realize that there is no space between the two cities.\n",
    "\n",
    "there is a solution for that.\n",
    "\n",
    "if you need your code to be readable, you have to concatenate your variables with other strings\n",
    "\n",
    "for example\n"
   ]
  },
  {
   "cell_type": "code",
   "execution_count": null,
   "id": "Ft9vOqtlwkMC",
   "metadata": {
    "colab": {
     "base_uri": "https://localhost:8080/"
    },
    "id": "Ft9vOqtlwkMC",
    "outputId": "304f92ff-b87d-4a56-b909-ec823a0c762b"
   },
   "outputs": [
    {
     "name": "stdout",
     "output_type": "stream",
     "text": [
      "My name is Christiano Ronaldo and I live in Nairobi.\n",
      "I am thirty three years old and I work as a footballer.\n",
      "When am not working, I enjoy playing football\n"
     ]
    }
   ],
   "source": [
    "name = \"Christiano Ronaldo\"\n",
    "address = \"Nairobi\"\n",
    "age = \"thirty three years\"\n",
    "profession = \"footballer\"\n",
    "hobbies = \"playing football\"\n",
    "personality = \"My name is\" \" \" + name + ' ' \"and I live in\" \" \"+ address + \".\" \"\\nI am\" \" \" + age +  ' ' \"old and I work as a\"  ' ' + profession + \".\" + \"\\nWhen am not working, I enjoy\"  ' ' + hobbies\n",
    "print (personality)"
   ]
  },
  {
   "cell_type": "markdown",
   "id": "Bc3iFPcd0Apc",
   "metadata": {
    "id": "Bc3iFPcd0Apc"
   },
   "source": [
    "you cannot concanate two different types of variables, for example, if you try to create the above code with the age bieng 39(int). you will recieve an error  since you cannot concatenate a (string) and an (int).  \n",
    "\n",
    "\n",
    "to get numerical values, you have to cast the integer as a string.\n",
    "\n",
    "for example\n"
   ]
  },
  {
   "cell_type": "code",
   "execution_count": null,
   "id": "tVctPtC71W6T",
   "metadata": {
    "colab": {
     "base_uri": "https://localhost:8080/"
    },
    "id": "tVctPtC71W6T",
    "outputId": "3d0dadc5-b45e-4962-f4dc-7eea6b55f5ba"
   },
   "outputs": [
    {
     "name": "stdout",
     "output_type": "stream",
     "text": [
      "My name is Christiano Ronaldo and I live in Nairobi.\n",
      "I am 33  years old \n",
      "I work as a footballer.\n",
      "When am not working, I enjoy playing football\n"
     ]
    }
   ],
   "source": [
    "name = \"Christiano Ronaldo\"\n",
    "address = \"Nairobi\"\n",
    "age = 33\n",
    "profession = \"footballer\"\n",
    "hobbies = \"playing football\"\n",
    "personality = \"My name is\" \" \" + name + ' ' \"and I live in\" \" \"+ address + \".\" \"\\nI am\" \" \" + str (age) +  ' ' \" years old \\nI work as a\"  ' ' + profession + \".\" + \"\\nWhen am not working, I enjoy\"  ' ' + hobbies\n",
    "print (personality)"
   ]
  },
  {
   "cell_type": "markdown",
   "id": "NGtDbeq42N_r",
   "metadata": {
    "id": "NGtDbeq42N_r"
   },
   "source": [
    "from the above, you can see how the typecasting  function works where we cast the [int (33)] and made it to be recognised as a string [str  (age)]"
   ]
  },
  {
   "cell_type": "code",
   "execution_count": null,
   "id": "v_wHR7uo3whM",
   "metadata": {
    "colab": {
     "base_uri": "https://localhost:8080/"
    },
    "id": "v_wHR7uo3whM",
    "outputId": "b6d8728a-f440-437f-d0f2-9203acccb147"
   },
   "outputs": [
    {
     "name": "stdout",
     "output_type": "stream",
     "text": [
      "75.0\n"
     ]
    }
   ],
   "source": [
    "savingsAccount = 10000\n",
    "rate = 0.75\n",
    "\n",
    "interest = savingsAccount * (rate/100)\n",
    "\n",
    "print(interest)"
   ]
  },
  {
   "cell_type": "markdown",
   "id": "fpEu1Xdl316I",
   "metadata": {
    "id": "fpEu1Xdl316I"
   },
   "source": [
    "look at the difference between the text above and the text bellow\n"
   ]
  },
  {
   "cell_type": "code",
   "execution_count": null,
   "id": "48sW_8ge37RF",
   "metadata": {
    "colab": {
     "base_uri": "https://localhost:8080/"
    },
    "id": "48sW_8ge37RF",
    "outputId": "5de418a9-af8c-43bc-ccc9-e94fdd613f4f"
   },
   "outputs": [
    {
     "name": "stdout",
     "output_type": "stream",
     "text": [
      "75\n"
     ]
    }
   ],
   "source": [
    "savingsAccount = 10000\n",
    "rate = 0.75\n",
    "\n",
    "interest = savingsAccount * (rate/100)\n",
    "interest = int(interest)\n",
    "\n",
    "print(interest)"
   ]
  },
  {
   "cell_type": "markdown",
   "id": "pI4ROOlQ4Fl0",
   "metadata": {
    "id": "pI4ROOlQ4Fl0"
   },
   "source": [
    "we have just typecast (changing one type of value to another )a float to be read as an integer"
   ]
  },
  {
   "cell_type": "code",
   "execution_count": 7,
   "id": "mWVpTlgf4_ah",
   "metadata": {
    "colab": {
     "base_uri": "https://localhost:8080/"
    },
    "id": "mWVpTlgf4_ah",
    "outputId": "63764125-226a-488b-8277-8f0a59ecb50e"
   },
   "outputs": [
    {
     "name": "stdout",
     "output_type": "stream",
     "text": [
      "I was born in Kisumu and I have travelled to many cities. \n",
      "Of all the cities I have visited, New York was my favourite and I ended up visiting it 10 times.\n"
     ]
    }
   ],
   "source": [
    "city = \"New York\"\n",
    "cityOne = \"Kisumu\"\n",
    "numberOfVisits = 10\n",
    "numberOfVisits = str(numberOfVisits)\n",
    "history = 'I was born in ' + cityOne + \" and I have travelled to many cities. \" \"\\nOf all the cities I have visited, \" + city +  \" was my favourite and I ended up visiting it \" + numberOfVisits +  \" times.\"\n",
    "print (history)"
   ]
  },
  {
   "cell_type": "markdown",
   "id": "GMLh8nFX8fkU",
   "metadata": {
    "id": "GMLh8nFX8fkU"
   },
   "source": [
    "from the code above, you can see how we changed numberOfVisists from an integer (int) to a string (str)"
   ]
  },
  {
   "cell_type": "markdown",
   "id": "Ml337M7_8yM2",
   "metadata": {
    "id": "Ml337M7_8yM2"
   },
   "source": [
    "so, from the above, you can see that + can be used differently\n",
    "\n",
    "in numerics(integers and decimals) it is used for summation\n",
    "in strings (charachter strings) it is used to concatenate"
   ]
  },
  {
   "cell_type": "markdown",
   "id": "l2_WuKMlKx0A",
   "metadata": {
    "id": "l2_WuKMlKx0A"
   },
   "source": [
    "\n",
    "Function: A block of organized, reusable code that performs a single, related action. Functions are defined with a name and can take input values (parameters) and may return a value.\n",
    "\n",
    "\n",
    "functions are a group of statement or code that are grouped and created to perform a specific action.\n",
    "you can always recall a function if you need the specific code to be performed again rather than rewriting the code individualy.\n",
    "\n",
    "\n",
    "\n"
   ]
  },
  {
   "cell_type": "code",
   "execution_count": null,
   "id": "yrVyTPN2khRK",
   "metadata": {
    "id": "yrVyTPN2khRK"
   },
   "outputs": [],
   "source": [
    "# there are very many functions that can be found in python.\n",
    "# len() this shows you the length of a string charachter or the length of an item.\n",
    "#type() this function tells you the type of variable that you have.\n",
    "# pow(a, b) this is the same as a**b. it multiplies a to the power b.\n",
    "# abs () this function returns the absolute value of a number."
   ]
  },
  {
   "cell_type": "code",
   "execution_count": null,
   "id": "fR5BQyVclwFl",
   "metadata": {
    "colab": {
     "base_uri": "https://localhost:8080/"
    },
    "id": "fR5BQyVclwFl",
    "outputId": "d7d1664f-5cd9-4994-f471-2fc73f0ad635"
   },
   "outputs": [
    {
     "data": {
      "text/plain": [
       "str"
      ]
     },
     "execution_count": 3,
     "metadata": {},
     "output_type": "execute_result"
    }
   ],
   "source": [
    "a = \"pinnapple\"\n",
    "type(a)\n"
   ]
  },
  {
   "cell_type": "code",
   "execution_count": null,
   "id": "496uyLp9mG04",
   "metadata": {
    "colab": {
     "base_uri": "https://localhost:8080/"
    },
    "id": "496uyLp9mG04",
    "outputId": "ee1c7646-8b8f-4c4d-8d94-2da069e47bae"
   },
   "outputs": [
    {
     "data": {
      "text/plain": [
       "9"
      ]
     },
     "execution_count": 4,
     "metadata": {},
     "output_type": "execute_result"
    }
   ],
   "source": [
    "len(a)"
   ]
  },
  {
   "cell_type": "code",
   "execution_count": null,
   "id": "rfLScTicmJH9",
   "metadata": {
    "colab": {
     "base_uri": "https://localhost:8080/"
    },
    "id": "rfLScTicmJH9",
    "outputId": "3eebd351-9de0-42b2-bd1a-3360a21b2f1f"
   },
   "outputs": [
    {
     "data": {
      "text/plain": [
       "65536"
      ]
     },
     "execution_count": 5,
     "metadata": {},
     "output_type": "execute_result"
    }
   ],
   "source": [
    "pow(4, 8)"
   ]
  },
  {
   "cell_type": "code",
   "execution_count": null,
   "id": "bc7AlQw4mWAz",
   "metadata": {
    "colab": {
     "base_uri": "https://localhost:8080/"
    },
    "id": "bc7AlQw4mWAz",
    "outputId": "6d7b378a-27cf-41a9-8b77-93f6616c9cca"
   },
   "outputs": [
    {
     "data": {
      "text/plain": [
       "2394.0384023"
      ]
     },
     "execution_count": 6,
     "metadata": {},
     "output_type": "execute_result"
    }
   ],
   "source": [
    "abs(-2394.0384023)"
   ]
  },
  {
   "cell_type": "markdown",
   "id": "3hGVluUxmknF",
   "metadata": {
    "id": "3hGVluUxmknF"
   },
   "source": [
    "the absolute value of a number is the positive value of the number\n",
    "\n",
    "the absolute value of -5 will be 5. the absolute value of -2392 will be 2392"
   ]
  },
  {
   "cell_type": "code",
   "execution_count": null,
   "id": "xp1P8C2-m2Mc",
   "metadata": {
    "colab": {
     "base_uri": "https://localhost:8080/"
    },
    "id": "xp1P8C2-m2Mc",
    "outputId": "0b389d45-e557-4339-c58b-5a896cee2ee9"
   },
   "outputs": [
    {
     "name": "stdout",
     "output_type": "stream",
     "text": [
      "12\n",
      "<class 'str'>\n",
      "390625\n",
      "385\n"
     ]
    }
   ],
   "source": [
    "h= \"abbracadabra\"\n",
    "print (len(h))\n",
    "print (type(h))\n",
    "print (pow(5, 8))\n",
    "print (abs(-385))"
   ]
  }
 ],
 "metadata": {
  "colab": {
   "provenance": []
  },
  "kernelspec": {
   "display_name": "Python 3 (ipykernel)",
   "language": "python",
   "name": "python3"
  },
  "language_info": {
   "codemirror_mode": {
    "name": "ipython",
    "version": 3
   },
   "file_extension": ".py",
   "mimetype": "text/x-python",
   "name": "python",
   "nbconvert_exporter": "python",
   "pygments_lexer": "ipython3",
   "version": "3.11.7"
  }
 },
 "nbformat": 4,
 "nbformat_minor": 5
}
