{
 "cells": [
  {
   "cell_type": "code",
   "execution_count": 39,
   "id": "13bd2754",
   "metadata": {
    "scrolled": true
   },
   "outputs": [
    {
     "data": {
      "text/plain": [
       "0    4\n",
       "1    6\n",
       "dtype: int64"
      ]
     },
     "metadata": {},
     "output_type": "display_data"
    },
    {
     "data": {
      "text/plain": [
       "0    1\n",
       "1    4\n",
       "dtype: int64"
      ]
     },
     "metadata": {},
     "output_type": "display_data"
    },
    {
     "data": {
      "text/plain": [
       "2.0"
      ]
     },
     "metadata": {},
     "output_type": "display_data"
    },
    {
     "data": {
      "text/plain": [
       "4.5"
      ]
     },
     "metadata": {},
     "output_type": "display_data"
    }
   ],
   "source": [
    "# Getting Variance from a set and a list \n",
    "# A set is an unordered collection of unique elements. \n",
    "# a set is defined by curly brackets {} or using the function set()\n",
    "# sets are mostly useful for membership testing and eliminating duplicate entries from a sequence.\n",
    "\n",
    "#                    CHARACHTERISTICS OF A SET\n",
    "# They are unordered or they do not have a defined order\n",
    "# a set can only contain unique elements, if you try to add a duplicate element, it will be ignored. \n",
    "# they are mutable and hence, you can add or remove something from a set.\n",
    "# you can perform mathematical operation like union, intersection\n",
    "\n",
    "\n",
    "A={6,4,6,4,6,4,6,4}\n",
    "\n",
    "B={1,4,1,4,1,4,1,4}\n",
    "\n",
    "#remember that if values are inside curly brackets, in python, they are considered as sets. sets\n",
    "#are unordered collection of unique items and hence, we have to convert them to ordered items, such as a list\n",
    "#First convert them to an ordered item such as lists\n",
    "list_A=list(A)\n",
    "list_B=list(B)\n",
    "# Then convert them to a panda series.\n",
    "New_A=pd.Series(list_A)\n",
    "New_B=pd.Series(list_B)\n",
    "display(New_A)\n",
    "display(New_B)\n",
    "\n",
    "variance_A=New_A.var()\n",
    "variance_B=New_B.var()\n",
    "display(variance_A,variance_B)\n",
    "# You will realize that since the initial number was a set, we did not get the answer we wanted because a set ignored all the other numbers\n",
    "# the set only took the unique numbers in A, which were 4 and 6 and got the variance from both\n",
    "# in B, the set only took unique numbers 1 and 4 and looked for the variance in them \n",
    "# so if we need an accurate value, we have to ensure that we change the curly bracket. look at the example bellow "
   ]
  },
  {
   "cell_type": "code",
   "execution_count": 51,
   "id": "487d8caa",
   "metadata": {},
   "outputs": [
    {
     "data": {
      "text/plain": [
       "0    6\n",
       "1    4\n",
       "2    6\n",
       "3    4\n",
       "4    6\n",
       "5    4\n",
       "6    6\n",
       "7    4\n",
       "dtype: int64"
      ]
     },
     "metadata": {},
     "output_type": "display_data"
    },
    {
     "data": {
      "text/plain": [
       "0    1\n",
       "1    4\n",
       "2    1\n",
       "3    4\n",
       "4    1\n",
       "5    4\n",
       "6    1\n",
       "7    4\n",
       "dtype: int64"
      ]
     },
     "metadata": {},
     "output_type": "display_data"
    },
    {
     "data": {
      "text/plain": [
       "1.1428571428571428"
      ]
     },
     "metadata": {},
     "output_type": "display_data"
    },
    {
     "data": {
      "text/plain": [
       "2.5714285714285716"
      ]
     },
     "metadata": {},
     "output_type": "display_data"
    }
   ],
   "source": [
    "# AFTER CHANGING THE CURLY BRACKETS \n",
    "\n",
    "A=[6,4,6,4,6,4,6,4] # This is a list\n",
    "A=pd.Series(A) # this changes it to a  Series\n",
    "\n",
    "B=[1,4,1,4,1,4,1,4]\n",
    "B=pd.Series(B)\n",
    "\n",
    "display(A,B)\n",
    "variance_A=A.var()\n",
    "variance_B=B.var()\n",
    "display(variance_A,variance_B)\n",
    "    "
   ]
  }
 ],
 "metadata": {
  "kernelspec": {
   "display_name": "Python 3 (ipykernel)",
   "language": "python",
   "name": "python3"
  },
  "language_info": {
   "codemirror_mode": {
    "name": "ipython",
    "version": 3
   },
   "file_extension": ".py",
   "mimetype": "text/x-python",
   "name": "python",
   "nbconvert_exporter": "python",
   "pygments_lexer": "ipython3",
   "version": "3.11.7"
  }
 },
 "nbformat": 4,
 "nbformat_minor": 5
}
