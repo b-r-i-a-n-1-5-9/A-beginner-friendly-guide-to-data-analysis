{
 "cells": [
  {
   "cell_type": "code",
   "execution_count": 1,
   "id": "d6b1d0ff",
   "metadata": {},
   "outputs": [],
   "source": [
    "# First, what do we even mean by concentration?\n",
    "# when assessing the concentration of a certain data, we want to know where the data is mostly occuring\n",
    "# lets analyse this by using a bank analogy\n",
    "# you might want to know whether your transactions are concentrated on a few unique bank transactions ie groceries or maybe, you equaly use your money appropriately by feeding all your needs equaly\n",
    "# measures of concentration allow you to know how evenly distributed a certain variable is \n",
    "# one strategy that is commonly used to visualize the concentration of data variables involves the use of the Lorenz curve"
   ]
  },
  {
   "cell_type": "code",
   "execution_count": 2,
   "id": "9a0a51f9",
   "metadata": {},
   "outputs": [],
   "source": [
    "#                                     THE LORENZ CURVE \n",
    "# so, again, what is the lorenz curve\n",
    "# lets think of it this way, assuming that you are in a school and you want to acess the grades of all the students in a school\n",
    "# Definetely we have students with high grades, and those with low grades\n",
    "# Using a lorenz curve, we can analyse how student grades are distributed in the school\n",
    "# do most student have poor grades? or do most of them have good grades\n",
    "# with this information, now then, think of this analogy in form of stair cases where students with high grades are on top of the stairts, and students with low grades are in the lower section of the stairts\n",
    "# thats how a lorenz curve works. However, the hight between one step and the other will not be equal, since grades, and any other values do not have the same increment. one student may have 20%, the next student might have 22%, next student 30% m next student %50, etc. our staircase in this analogy wont  have an equal height\n",
    "# the bigger the difference between one value and the other, the higher the step in our stair case. \n",
    "# the height of our staircase will be equal to the sum of the individual heights that exist in our data. or simply, the heights of the steps.\n",
    "# if all the values are distributed equaly, the distribution would be equal, and the height incriment would be equal, and hence,the stair case would create something that resemples a 45 degree triangle, where the lorenze curve would be the diagonal.\n",
    "# if the values are only distributed in one region, the lorenz curve will be further from the first bisector (or the diagonal if we choose to use the analogy above)"
   ]
  },
  {
   "cell_type": "code",
   "execution_count": 3,
   "id": "487c5ee3",
   "metadata": {},
   "outputs": [],
   "source": [
    "# Since the lorenze curve is a curve and not a statistic, if we want to measure the distribution, we have to find the area under the curve\n",
    "# that's where the Gini index comes to play\n",
    "# The gini index is a measure of the are between the lorenz Curve and the first bisector \n",
    "\n",
    "# if a certain value is said to be concentrated it means that the majority of the values are produced by few individual variables,\n",
    "# for example, if we say wealth is concentrated, we mean that majority of the wealth (80%) is held by 10% of the population\n",
    "# in an equal distribution, 10% of the population would have acess to 10% of the total income .but that rarely happens. \n",
    "# Now, lets jump to the code that provides us with the lorenz curve"
   ]
  },
  {
   "cell_type": "code",
   "execution_count": 4,
   "id": "379863b9",
   "metadata": {
    "scrolled": true
   },
   "outputs": [
    {
     "data": {
      "image/png": "[encoded data removed]",
      "text/plain": [
       "<Figure size 640x480 with 1 Axes>"
      ]
     },
     "metadata": {},
     "output_type": "display_data"
    }
   ],
   "source": [
    "import numpy as np\n",
    "import pandas as pd\n",
    "import matplotlib.pyplot as plt\n",
    "\n",
    "data=pd.read_csv('operations.csv')\n",
    "\n",
    "expenses=data[data['amount']<0]\n",
    "\n",
    "exp=-expenses['amount'].values\n",
    "n=len(exp)\n",
    "\n",
    "lorenz=np.cumsum(np.sort(exp))/exp.sum()\n",
    "lorenz=np.append([0],lorenz)\n",
    "\n",
    "#plt.axes().axis('equal')\n",
    "xaxis=np.linspace(0-1/n,1+1/n,n+1)\n",
    "\n",
    "plt.plot(xaxis,lorenz,drawstyle='steps-post')\n",
    "plt.show()"
   ]
  },
  {
   "cell_type": "code",
   "execution_count": 5,
   "id": "6af1e0c3",
   "metadata": {
    "scrolled": true
   },
   "outputs": [
    {
     "data": {
      "image/png": "[encoded data removed]",
      "text/plain": [
       "<Figure size 640x480 with 1 Axes>"
      ]
     },
     "metadata": {},
     "output_type": "display_data"
    }
   ],
   "source": [
    "# Lets explain the above code step by step\n",
    "import numpy as np\n",
    "import pandas as pd\n",
    "import matplotlib.pyplot as plt\n",
    "\n",
    "data=pd.read_csv('operations.csv')\n",
    "\n",
    "expenses=data[data['amount']<0] # here we filter the values in the amount column to include positive values only.\n",
    "# the filtered data is then saved in a variable refered to as expenses.\n",
    "\n",
    "exp=-expenses['amount'].values # we create a variable known as exp which is made up of negative filtered values.\n",
    "n=len(exp) # this provides us with the number of the values in the exp variable. \n",
    "\n",
    "# np.cumsum gives us the comulative sum of a variable\n",
    "\n",
    "# np.sort(exp) sorts the values in exp in ascending order, where high numbered values will be on top and low valued numbers at the botton\n",
    "# np.sort(exp)/exp.sum divides each individual value of the exp colum, with the total sum of the exp column. \n",
    "# the above method allows us to obtain a ratio like value where its total sum will be 1. This is refered to as normalizing.\n",
    "lorenz=np.cumsum(np.sort(exp))/exp.sum()\n",
    "lorenz=np.append([0],lorenz) # this adds the value 0, so as to make sure the lorenz value starts at 0.\n",
    "# remember that The Lorenz curve represents the cumulative distribution of a variable, typically income or wealth, \n",
    "# Lorenz Curve should start at the origin (0,0) to indicate that 0% of the population holds 0% of the wealth or income.\n",
    "# the lorenz variable provides Y values.they contain the data points of the Y cordinates.\n",
    "\n",
    "plt.axes().axis('equal')# this code is used to set the aspect ratio of the plot by making sure that the units are exual along both the x axis and the Y axis.\n",
    "#this means that one unit along the x axis will have an exual length compared to the Y axis\n",
    "xaxis=np.linspace(0-1/n,1+1/n,n+1) \n",
    "#the np.linspace() function creates an array of evenly distributed numbers over a specified interval. \n",
    "#for you to use it, you have to specify the start, the stop, and the interval.\n",
    "#np.linspace(0-1/n,1+1/n,n+1) creates an array of equal intervales. they will start at 0-1/n,(-0.003436426116838488) and end at 1+1/n(1.0034364261168385).\n",
    "# We have added 1 in the n+1 to cater to the np.array[0] that we added earlier. so now we have 292 values rather than 291.\n",
    "# so , our x variables will start at 0-1/n, and end at 1+1/n . there will be a segment for each Y variable, and one for y=0.\n",
    "\n",
    "plt.plot(xaxis,lorenz,drawstyle='steps-post')\n",
    "plt.show()"
   ]
  },
  {
   "cell_type": "code",
   "execution_count": 6,
   "id": "b7819424",
   "metadata": {},
   "outputs": [
    {
     "data": {
      "text/plain": [
       "0.7204386813739185"
      ]
     },
     "execution_count": 6,
     "metadata": {},
     "output_type": "execute_result"
    }
   ],
   "source": [
    "#Lets now focus on calculating the Gini index\n",
    "AreaUunderCurve=(lorenz.sum()-lorenz[-1]/2-lorenz[0]/2)/n\n",
    "\n",
    "s=0.5-AreaUunderCurve\n",
    "gini=2*s\n",
    "gini\n",
    "# If our calculations were related to income, our gini coeficient would have suggested that there is a high income inequality among individuals. "
   ]
  },
  {
   "cell_type": "code",
   "execution_count": 7,
   "id": "d7809230",
   "metadata": {},
   "outputs": [],
   "source": [
    "# The gini coeficient or the gini index is a measure of statistical dispersion that is intended to represent the income or wealth distribution of a certain category. \n",
    "# in our case, it will be the bank clients\n",
    "# it ranges from 1 to 0 where 0 represents perfect inequality, which shows that the value is perfectly distributed across the sample\n",
    "# 1 denotes perfect inequality which means that a single individual has all the values . if it is income, it will mean that one person holds all the income and everyone else has none.\n",
    "# to calculate the gini index, you will use the lorenz curve.\n",
    "# in our example above, we have plotted the cummulative ratio of the total income recieved , against the number of recipients , starting from the poortest to the richest\n",
    "\n",
    "# AreaUunderCurve=(lorenz.sum()-lorenz[-1]/2-lorenz[0]/2)/n\n",
    "# lorenz.sum gets the value of all the values in the lorenz arrray. \n",
    "# lorenz[-1] is the last value in the lorenz array. \n",
    "# lorenz[-1]/2 devides this vallue by 2\n",
    "# lorenz[0] is the first value in the lorenz array\n",
    "# lorenz[0]/2 devides this value by 2\n",
    "# lorenz.sum() provides a rough estimate of the total area under the lorenz curve.\n",
    "# subtracting half of the first and the last value corrects the overestimation that occures from the sum.\n",
    "# by subtracting half of the last value By subtracting half of this value, the formula accounts for the endpoint adjustment needed for the trapezoidal rule of integration.\n",
    "# by subtracting half of the first value, one adjusts for the starting point in the trapizoidal integration method.\n",
    "# dividing by n normalizes the sum to obtain the average value. \n",
    "\n",
    "\n",
    "# Understanding the Gini Coefficient\n",
    "#  Range: The Gini coefficient ranges from 0 to 1.\n",
    "#  0 represents perfect equality, where everyone has the same income or wealth.\n",
    "#  1 represents perfect inequality, where one person has all the income or wealth and everyone else has none.\n",
    "\n",
    "#                            Socioeconomic Implications\n",
    "#  Economic Disparity: High inequality can lead to various socioeconomic issues, including reduced social cohesion, increased crime rates, and potential political instability.\n",
    "# Access to Resources: In highly unequal societies, access to education, healthcare, and other essential services can be significantly skewed, favoring the wealthy.\n",
    "# Economic Mobility: High inequality often correlates with low economic mobility, meaning that individuals have fewer opportunities to improve their economic status over time.\n"
   ]
  }
 ],
 "metadata": {
  "kernelspec": {
   "display_name": "Python 3 (ipykernel)",
   "language": "python",
   "name": "python3"
  },
  "language_info": {
   "codemirror_mode": {
    "name": "ipython",
    "version": 3
   },
   "file_extension": ".py",
   "mimetype": "text/x-python",
   "name": "python",
   "nbconvert_exporter": "python",
   "pygments_lexer": "ipython3",
   "version": "3.11.7"
  }
 },
 "nbformat": 4,
 "nbformat_minor": 5
}
