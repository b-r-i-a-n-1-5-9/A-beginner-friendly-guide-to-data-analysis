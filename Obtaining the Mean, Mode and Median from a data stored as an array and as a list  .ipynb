{
 "cells": [
  {
   "cell_type": "code",
   "execution_count": 50,
   "id": "a51cc6e6",
   "metadata": {},
   "outputs": [
    {
     "data": {
      "text/plain": [
       "4.0"
      ]
     },
     "metadata": {},
     "output_type": "display_data"
    },
    {
     "data": {
      "text/plain": [
       "0    1\n",
       "dtype: int32"
      ]
     },
     "metadata": {},
     "output_type": "display_data"
    },
    {
     "data": {
      "text/plain": [
       "3.0"
      ]
     },
     "metadata": {},
     "output_type": "display_data"
    },
    {
     "name": "stdout",
     "output_type": "stream",
     "text": [
      "4.0 0    1\n",
      "dtype: int64 3.0\n"
     ]
    }
   ],
   "source": [
    "#Obtaining the Mean, Mode and Median from a data stored as an array and as a list  \n",
    "# An array\n",
    "import numpy as np\n",
    "import pandas as pd\n",
    "\n",
    "new_data_array=np.array([1,10,1,10,1,1,5,1,5,5]) #We first have to convert the numpy array to a panda series.\n",
    "# Note that we can also use numpy to get the mean, mode and median\n",
    "new_data_series=pd.Series(new_data_array)\n",
    "\n",
    "new_data_series=new_data_series.sort_values()\n",
    "#print(new_data_series)\n",
    "\n",
    "mean_1=new_data_series.mean()\n",
    "mode_1=new_data_series.mode()\n",
    "median_1=new_data_series.median()\n",
    "display(mean_1,mode_1,median_1)\n",
    "# A List\n",
    "new_data=[1,10,1,10,1,1,5,1,5,5]\n",
    "\n",
    "new_data=pd.Series(new_data) # If we had decided to store the data in form of a pnda series, this would be our process\n",
    "#The formula offers same results but different methods\n",
    "\n",
    "mean=new_data.mean()\n",
    "mode=new_data.mode()\n",
    "median=new_data.median()\n",
    "\n",
    "print(mean,mode,median)"
   ]
  }
 ],
 "metadata": {
  "kernelspec": {
   "display_name": "Python 3 (ipykernel)",
   "language": "python",
   "name": "python3"
  },
  "language_info": {
   "codemirror_mode": {
    "name": "ipython",
    "version": 3
   },
   "file_extension": ".py",
   "mimetype": "text/x-python",
   "name": "python",
   "nbconvert_exporter": "python",
   "pygments_lexer": "ipython3",
   "version": "3.11.7"
  }
 },
 "nbformat": 4,
 "nbformat_minor": 5
}
